{
 "cells": [
  {
   "cell_type": "code",
   "execution_count": 11,
   "metadata": {},
   "outputs": [
    {
     "name": "stdout",
     "output_type": "stream",
     "text": [
      "<class 'pandas.core.frame.DataFrame'>\n",
      "Index: 1013 entries, Not at all worried to Somewhat worried\n",
      "Data columns (total 10 columns):\n",
      " #   Column                                                                                                                                                Non-Null Count  Dtype \n",
      "---  ------                                                                                                                                                --------------  ----- \n",
      " 0   How worried are you about the Big One, a massive, catastrophic earthquake?                                                                            1013 non-null   object\n",
      " 1   Do you think the \"Big One\" will occur in your lifetime?                                                                                               1013 non-null   object\n",
      " 2   Have you ever experienced an earthquake?                                                                                                              1006 non-null   object\n",
      " 3   Have you or anyone in your household taken any precautions for an earthquake (packed an earthquake survival kit, prepared an evacuation plan, etc.)?  1006 non-null   object\n",
      " 4   How familiar are you with the San Andreas Fault line?                                                                                                 1001 non-null   object\n",
      " 5   How familiar are you with the Yellowstone Supervolcano?                                                                                               1001 non-null   object\n",
      " 6   age                                                                                                                                                   1001 non-null   object\n",
      " 7   gender                                                                                                                                                1001 non-null   object\n",
      " 8   household_income                                                                                                                                      1001 non-null   object\n",
      " 9   region                                                                                                                                                978 non-null    object\n",
      "dtypes: object(10)\n",
      "memory usage: 87.1+ KB\n",
      "None\n"
     ]
    }
   ],
   "source": [
    "import pandas as pd\n",
    "import os\n",
    "\n",
    "\n",
    "\n",
    "df = pd.read_csv('../original_data/earthquake_data.csv', index_col=0)\n",
    "df.rename(columns={'Age': 'age_range', 'What is your gender?': 'gender', 'How much total combined money did all members of your HOUSEHOLD earn last year?': 'household_income', 'US Region': 'region'}, inplace=True)\n",
    "# os.listdir('../origi\n",
    "\n",
    "print(df.info())"
   ]
  },
  {
   "cell_type": "code",
   "execution_count": null,
   "metadata": {},
   "outputs": [],
   "source": []
  }
 ],
 "metadata": {
  "kernelspec": {
   "display_name": "Python 3.10.8 64-bit",
   "language": "python",
   "name": "python3"
  },
  "language_info": {
   "codemirror_mode": {
    "name": "ipython",
    "version": 3
   },
   "file_extension": ".py",
   "mimetype": "text/x-python",
   "name": "python",
   "nbconvert_exporter": "python",
   "pygments_lexer": "ipython3",
   "version": "3.10.8"
  },
  "orig_nbformat": 4,
  "vscode": {
   "interpreter": {
    "hash": "916dbcbb3f70747c44a77c7bcd40155683ae19c65e1c03b4aa3499c5328201f1"
   }
  }
 },
 "nbformat": 4,
 "nbformat_minor": 2
}
