{
 "cells": [
  {
   "cell_type": "code",
   "execution_count": 26,
   "metadata": {},
   "outputs": [],
   "source": [
    "import pandas as pd\n",
    "import os\n",
    "\n",
    "\n",
    "\n",
    "df = pd.read_csv('../original_data/earthquake_data.csv')\n",
    "df.rename(columns={'Age': 'age_range', 'What is your gender?': 'gender', 'How much total combined money did all members of your HOUSEHOLD earn last year?': 'household_income', 'US Region': 'region'}, inplace=True)\n",
    "\n",
    "df2 = df[[\"age_range\", \"gender\", \"\"\"Do you think the \"Big One\" will occur in your lifetime?\"\"\"]].copy()\n",
    "df2.dropna(  how='any', inplace=True)\n",
    "df2.to_csv(\"../analysis/big_one.csv\")"
   ]
  },
  {
   "cell_type": "code",
   "execution_count": null,
   "metadata": {},
   "outputs": [],
   "source": []
  }
 ],
 "metadata": {
  "kernelspec": {
   "display_name": "Python 3.10.8 64-bit",
   "language": "python",
   "name": "python3"
  },
  "language_info": {
   "codemirror_mode": {
    "name": "ipython",
    "version": 3
   },
   "file_extension": ".py",
   "mimetype": "text/x-python",
   "name": "python",
   "nbconvert_exporter": "python",
   "pygments_lexer": "ipython3",
   "version": "3.10.8"
  },
  "orig_nbformat": 4,
  "vscode": {
   "interpreter": {
    "hash": "916dbcbb3f70747c44a77c7bcd40155683ae19c65e1c03b4aa3499c5328201f1"
   }
  }
 },
 "nbformat": 4,
 "nbformat_minor": 2
}
